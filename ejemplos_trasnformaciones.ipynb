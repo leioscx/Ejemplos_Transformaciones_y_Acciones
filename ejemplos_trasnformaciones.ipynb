{
  "nbformat": 4,
  "nbformat_minor": 0,
  "metadata": {
    "colab": {
      "provenance": [],
      "authorship_tag": "ABX9TyOan401lAD5g7HOvIDZxAhh",
      "include_colab_link": true
    },
    "kernelspec": {
      "name": "python3",
      "display_name": "Python 3"
    },
    "language_info": {
      "name": "python"
    }
  },
  "cells": [
    {
      "cell_type": "markdown",
      "metadata": {
        "id": "view-in-github",
        "colab_type": "text"
      },
      "source": [
        "<a href=\"https://colab.research.google.com/github/leioscx/Ejemplos_Transformaciones_y_Acciones/blob/main/ejemplos_trasnformaciones.ipynb\" target=\"_parent\"><img src=\"https://colab.research.google.com/assets/colab-badge.svg\" alt=\"Open In Colab\"/></a>"
      ]
    },
    {
      "cell_type": "code",
      "execution_count": null,
      "metadata": {
        "id": "dmddN-COCTet"
      },
      "outputs": [],
      "source": [
        "from pyspark import SparkContext\n",
        "\n",
        "# Inicia el contexto Spark\n",
        "sc = SparkContext(\"local\", \"Ejemplo_RDD\")"
      ]
    },
    {
      "cell_type": "code",
      "source": [
        "# Ejemplo map y filter\n",
        "\n",
        "# Crear el RDD de ejemplo\n",
        "rdd = sc.parallelize([1, 2, 3, 4, 5, 6, 7, 8, 9, 10])\n",
        "\n",
        "# Filtrar los números pares y calcular su cuadrado\n",
        "resultado = rdd.filter(lambda x: x % 2 == 0).map(lambda x: x ** 2)\n",
        "\n",
        "# Resultado: [4, 16, 36, 64, 100]\n",
        "print(resultado.collect())"
      ],
      "metadata": {
        "colab": {
          "base_uri": "https://localhost:8080/"
        },
        "id": "E0t9rXiREAxy",
        "outputId": "f3c7700e-c404-46ee-891d-a380626f03ba"
      },
      "execution_count": null,
      "outputs": [
        {
          "output_type": "stream",
          "name": "stdout",
          "text": [
            "[4, 16, 36, 64, 100]\n"
          ]
        }
      ]
    },
    {
      "cell_type": "code",
      "source": [
        "# Ejemplo flatMap y distintc\n",
        "\n",
        "# Crear el RDD de frases\n",
        "rdd = sc.parallelize([\"hola mundo\", \"hola Spark\", \"mundo de Big Data\"])\n",
        "\n",
        "# Usar flatMap para dividir en palabras y luego distinct para obtener únicas\n",
        "resultado = rdd.flatMap(lambda x: x.split(\" \")).distinct()\n",
        "\n",
        "# Resultado: ['hola', 'mundo', 'Spark', 'de', 'Big', 'Data']\n",
        "print(resultado.collect())"
      ],
      "metadata": {
        "colab": {
          "base_uri": "https://localhost:8080/"
        },
        "id": "Sx3iJs_QEIvR",
        "outputId": "e649a8e8-1ce9-4cf0-9793-9a4c9fa51754"
      },
      "execution_count": null,
      "outputs": [
        {
          "output_type": "stream",
          "name": "stdout",
          "text": [
            "['hola', 'mundo', 'Spark', 'de', 'Big', 'Data']\n"
          ]
        }
      ]
    },
    {
      "cell_type": "code",
      "source": [
        "# Ejemplo union y intersection\n",
        "\n",
        "# Crear dos RDDs de nombres\n",
        "rdd1 = sc.parallelize([\"Juan\", \"Ana\", \"Carlos\", \"Miguel\"])\n",
        "rdd2 = sc.parallelize([\"Carlos\", \"Ana\", \"Maria\", \"Sofia\"])\n",
        "\n",
        "# Union de ambos RDDs\n",
        "union_resultado = rdd1.union(rdd2)\n",
        "\n",
        "# Intersección de ambos RDDs\n",
        "interseccion_resultado = rdd1.intersection(rdd2)\n",
        "\n",
        "# Resultado de la unión: ['Juan', 'Ana', 'Carlos', 'Miguel', 'Carlos', 'Ana', 'Maria', 'Sofia']\n",
        "# Resultado de la intersección: ['Carlos', 'Ana']\n",
        "print(\"Unión:\", union_resultado.collect())\n",
        "print(\"Intersección:\", interseccion_resultado.collect())"
      ],
      "metadata": {
        "colab": {
          "base_uri": "https://localhost:8080/"
        },
        "id": "F96-5eGzEVcb",
        "outputId": "41be62f9-eb07-4a5a-ca6b-4e39e14b87d8"
      },
      "execution_count": null,
      "outputs": [
        {
          "output_type": "stream",
          "name": "stdout",
          "text": [
            "Unión: ['Juan', 'Ana', 'Carlos', 'Miguel', 'Carlos', 'Ana', 'Maria', 'Sofia']\n",
            "Intersección: ['Carlos', 'Ana']\n"
          ]
        }
      ]
    },
    {
      "cell_type": "code",
      "source": [
        "# Ejemplo filter, map y distinc\n",
        "\n",
        "# Crear el RDD de productos (nombre, precio)\n",
        "rdd = sc.parallelize([(\"ProductoA\", 150), (\"ProductoB\", 90), (\"ProductoA\", 200), (\"ProductoC\", 120), (\"ProductoB\", 130)])\n",
        "\n",
        "# Filtrar productos con precio > 100, extraer el nombre y eliminar duplicados\n",
        "resultado = rdd.filter(lambda x: x[1] > 100).map(lambda x: x[0]).distinct()\n",
        "\n",
        "# Resultado: ['ProductoA', 'ProductoC', 'ProductoB']\n",
        "print(resultado.collect())"
      ],
      "metadata": {
        "colab": {
          "base_uri": "https://localhost:8080/"
        },
        "id": "V0VlLDJHEi30",
        "outputId": "2e2358a9-fb55-46a5-c626-52331b768fee"
      },
      "execution_count": null,
      "outputs": [
        {
          "output_type": "stream",
          "name": "stdout",
          "text": [
            "['ProductoA', 'ProductoC', 'ProductoB']\n"
          ]
        }
      ]
    }
  ]
}