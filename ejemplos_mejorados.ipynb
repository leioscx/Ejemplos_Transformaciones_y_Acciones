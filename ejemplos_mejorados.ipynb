{
  "nbformat": 4,
  "nbformat_minor": 0,
  "metadata": {
    "colab": {
      "provenance": [],
      "authorship_tag": "ABX9TyOwtdOsUPhQMeYmNNZcP2ai",
      "include_colab_link": true
    },
    "kernelspec": {
      "name": "python3",
      "display_name": "Python 3"
    },
    "language_info": {
      "name": "python"
    }
  },
  "cells": [
    {
      "cell_type": "markdown",
      "metadata": {
        "id": "view-in-github",
        "colab_type": "text"
      },
      "source": [
        "<a href=\"https://colab.research.google.com/github/leioscx/Ejemplos_Transformaciones_y_Acciones/blob/main/ejemplos_mejorados.ipynb\" target=\"_parent\"><img src=\"https://colab.research.google.com/assets/colab-badge.svg\" alt=\"Open In Colab\"/></a>"
      ]
    },
    {
      "cell_type": "code",
      "execution_count": null,
      "metadata": {
        "id": "UY3Gh2sTX2Xe"
      },
      "outputs": [],
      "source": [
        "from pyspark import SparkContext\n",
        "sc = SparkContext(\"local\", \"Ejemplo_Mejorado\")"
      ]
    },
    {
      "cell_type": "code",
      "source": [
        "# TRANSFORMACIONES"
      ],
      "metadata": {
        "id": "Sh9vU-2EYmWO"
      },
      "execution_count": null,
      "outputs": []
    },
    {
      "cell_type": "code",
      "source": [
        "# Crear el RDD de ejemplo\n",
        "rdd = sc.parallelize([1, 2, 3, 4, 5, 6, 7, 8, 9, 10])\n",
        "\n",
        "# Aplicar filter y map en una sola función lambda\n",
        "resultado = rdd.map(lambda x: x ** 2 if x % 2 == 0 else None).filter(lambda x: x is not None)\n",
        "\n",
        "# Resultado: [4, 16, 36, 64, 100]\n",
        "print(resultado.collect())\n"
      ],
      "metadata": {
        "colab": {
          "base_uri": "https://localhost:8080/"
        },
        "id": "vyaNWuQcYRzV",
        "outputId": "0104285e-d635-4e11-d7c5-9c88e04b46bf"
      },
      "execution_count": null,
      "outputs": [
        {
          "output_type": "stream",
          "name": "stdout",
          "text": [
            "[4, 16, 36, 64, 100]\n"
          ]
        }
      ]
    },
    {
      "cell_type": "code",
      "source": [
        "# Crear el RDD de frases\n",
        "rdd = sc.parallelize([\"hola mundo\", \"hola Spark\", \"mundo de Big Data\"])\n",
        "\n",
        "# Usar mapPartitions para dividir en palabras por partición y luego distinct para obtener únicas\n",
        "resultado = rdd.mapPartitions(lambda partition: (word for line in partition for word in line.split(\" \"))).distinct()\n",
        "\n",
        "# Resultado: ['hola', 'mundo', 'Spark', 'de', 'Big', 'Data']\n",
        "print(resultado.collect())\n"
      ],
      "metadata": {
        "colab": {
          "base_uri": "https://localhost:8080/"
        },
        "id": "Q_T3nLbMYVyL",
        "outputId": "2b017afb-7247-40ef-f2b4-c7002eecc24a"
      },
      "execution_count": null,
      "outputs": [
        {
          "output_type": "stream",
          "name": "stdout",
          "text": [
            "['hola', 'mundo', 'Spark', 'de', 'Big', 'Data']\n"
          ]
        }
      ]
    },
    {
      "cell_type": "code",
      "source": [
        "# Crear dos RDDs de nombres\n",
        "rdd1 = sc.parallelize([\"Juan\", \"Ana\", \"Carlos\", \"Miguel\", \"Carlos\"])\n",
        "rdd2 = sc.parallelize([\"Carlos\", \"Ana\", \"Maria\", \"Sofia\", \"Ana\"])\n",
        "\n",
        "# Eliminar duplicados antes de realizar la union e intersección\n",
        "rdd1_distinct = rdd1.distinct()\n",
        "rdd2_distinct = rdd2.distinct()\n",
        "\n",
        "# Unión de ambos RDDs sin duplicados internos\n",
        "union_resultado = rdd1_distinct.union(rdd2_distinct)\n",
        "\n",
        "# Intersección de ambos RDDs\n",
        "interseccion_resultado = rdd1_distinct.intersection(rdd2_distinct)\n",
        "\n",
        "# Resultado de la unión: ['Juan', 'Ana', 'Carlos', 'Miguel', 'Maria', 'Sofia']\n",
        "# Resultado de la intersección: ['Carlos', 'Ana']\n",
        "print(\"Unión:\", union_resultado.collect())\n",
        "print(\"Intersección:\", interseccion_resultado.collect())"
      ],
      "metadata": {
        "colab": {
          "base_uri": "https://localhost:8080/"
        },
        "id": "HC9h9Q0_YdXi",
        "outputId": "b6a1778e-df57-4f48-96ca-265bb6aac772"
      },
      "execution_count": null,
      "outputs": [
        {
          "output_type": "stream",
          "name": "stdout",
          "text": [
            "Unión: ['Juan', 'Ana', 'Carlos', 'Miguel', 'Carlos', 'Ana', 'Maria', 'Sofia']\n",
            "Intersección: ['Carlos', 'Ana']\n"
          ]
        }
      ]
    },
    {
      "cell_type": "code",
      "source": [
        "# ACCIONES"
      ],
      "metadata": {
        "id": "RixzNRWLYq9o"
      },
      "execution_count": null,
      "outputs": []
    },
    {
      "cell_type": "code",
      "source": [
        "# Crear un RDD de números\n",
        "numeros = sc.parallelize([1, 6, 3, 8, 5, 10, 2, 7])\n",
        "\n",
        "# Filtrar solo los números mayores a 5\n",
        "numeros_mayores_5 = numeros.filter(lambda x: x > 5)\n",
        "\n",
        "# Sumar solo los elementos mayores a 5\n",
        "suma_mayores_5 = numeros_mayores_5.reduce(lambda a, b: a + b)\n",
        "print(\"Suma de números mayores a 5:\", suma_mayores_5)\n",
        "\n",
        "# Recolectar los elementos filtrados\n",
        "numeros_filtrados = numeros_mayores_5.collect()\n",
        "print(\"Números mayores a 5:\", numeros_filtrados)\n"
      ],
      "metadata": {
        "colab": {
          "base_uri": "https://localhost:8080/"
        },
        "id": "fNbpfuMhYsVZ",
        "outputId": "477b7a8a-47e5-4b9b-e1d1-9f49ad280dc6"
      },
      "execution_count": null,
      "outputs": [
        {
          "output_type": "stream",
          "name": "stdout",
          "text": [
            "Suma de números mayores a 5: 31\n",
            "Números mayores a 5: [6, 8, 10, 7]\n"
          ]
        }
      ]
    },
    {
      "cell_type": "code",
      "source": [
        "# Crear un RDD de palabras\n",
        "palabras = sc.parallelize([\"Spark\", \"es\", \"una\", \"herramienta\", \"muy\", \"potente\", \"para\", \"Big\", \"Data\"])\n",
        "\n",
        "# Filtrar palabras con más de 4 letras\n",
        "palabras_largas = palabras.filter(lambda palabra: len(palabra) > 4)\n",
        "\n",
        "# Contar la cantidad de palabras largas\n",
        "total_palabras_largas = palabras_largas.count()\n",
        "print(\"Cantidad de palabras con más de 4 letras:\", total_palabras_largas)\n",
        "\n",
        "# Transformar a mayúsculas y obtener la primera palabra larga\n",
        "primera_palabra_larga_mayus = palabras_largas.map(lambda palabra: palabra.upper()).first()\n",
        "print(\"Primera palabra larga en mayúsculas:\", primera_palabra_larga_mayus)\n"
      ],
      "metadata": {
        "colab": {
          "base_uri": "https://localhost:8080/"
        },
        "id": "_Ai6hvUAYyYz",
        "outputId": "7cb8948d-3794-4ee3-fddb-1ebfca89e4f8"
      },
      "execution_count": null,
      "outputs": [
        {
          "output_type": "stream",
          "name": "stdout",
          "text": [
            "Cantidad de palabras con más de 4 letras: 3\n",
            "Primera palabra larga en mayúsculas: SPARK\n"
          ]
        }
      ]
    },
    {
      "cell_type": "code",
      "source": [
        "# Crear un RDD de números\n",
        "numeros = sc.parallelize([10, 20, 5, 15, 30, 50, 25, 45, 35])\n",
        "\n",
        "# Obtener el valor máximo y mínimo\n",
        "valor_maximo = numeros.max()\n",
        "valor_minimo = numeros.min()\n",
        "print(\"Valor máximo:\", valor_maximo)\n",
        "print(\"Valor mínimo:\", valor_minimo)\n",
        "\n",
        "# Ordenar y tomar los primeros 4 elementos como muestra\n",
        "muestra = numeros.sortBy(lambda x: x).take(4)\n",
        "print(\"Muestra ordenada de los primeros 4 elementos:\", muestra)\n"
      ],
      "metadata": {
        "colab": {
          "base_uri": "https://localhost:8080/"
        },
        "id": "LytwdzdqY4hV",
        "outputId": "632652f0-2198-4dc5-8699-8a3d6b2f7d68"
      },
      "execution_count": null,
      "outputs": [
        {
          "output_type": "stream",
          "name": "stdout",
          "text": [
            "Valor máximo: 50\n",
            "Valor mínimo: 5\n",
            "Muestra ordenada de los primeros 4 elementos: [5, 10, 15, 20]\n"
          ]
        }
      ]
    },
    {
      "cell_type": "code",
      "source": [
        "# Crear un RDD de pares clave-valor\n",
        "ventas = sc.parallelize([(\"productoA\", 100), (\"productoB\", 150), (\"productoA\", 200),\n",
        "                         (\"productoC\", 300), (\"productoB\", 100), (\"productoA\", 150)])\n",
        "\n",
        "# Contar la frecuencia de cada clave\n",
        "frecuencia_por_producto = ventas.countByKey()\n",
        "print(\"Frecuencia de ventas por producto:\", dict(frecuencia_por_producto))\n",
        "\n",
        "# Sumar ventas por producto y contar ocurrencias de cada clave\n",
        "ventas_totales_y_frecuencia = ventas.groupByKey().mapValues(lambda x: (sum(x), len(x)))\n",
        "\n",
        "# Calcular el promedio de ventas por producto\n",
        "promedio_ventas_por_producto = ventas_totales_y_frecuencia.mapValues(lambda x: x[0] / x[1]).collect()\n",
        "print(\"Promedio de ventas por producto:\", dict(promedio_ventas_por_producto))\n"
      ],
      "metadata": {
        "colab": {
          "base_uri": "https://localhost:8080/"
        },
        "id": "3bEI_jdBY9Hz",
        "outputId": "4aaf7e98-5e4b-4c77-cfaf-b7231511d6e4"
      },
      "execution_count": null,
      "outputs": [
        {
          "output_type": "stream",
          "name": "stdout",
          "text": [
            "Frecuencia de ventas por producto: {'productoA': 3, 'productoB': 2, 'productoC': 1}\n",
            "Promedio de ventas por producto: {'productoA': 150.0, 'productoB': 125.0, 'productoC': 300.0}\n"
          ]
        }
      ]
    }
  ]
}