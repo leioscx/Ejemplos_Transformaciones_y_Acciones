{
  "nbformat": 4,
  "nbformat_minor": 0,
  "metadata": {
    "colab": {
      "provenance": [],
      "authorship_tag": "ABX9TyNCsYXTEB0NHXuDKVkvrCOG",
      "include_colab_link": true
    },
    "kernelspec": {
      "name": "python3",
      "display_name": "Python 3"
    },
    "language_info": {
      "name": "python"
    }
  },
  "cells": [
    {
      "cell_type": "markdown",
      "metadata": {
        "id": "view-in-github",
        "colab_type": "text"
      },
      "source": [
        "<a href=\"https://colab.research.google.com/github/leioscx/Ejemplos_Transformaciones_y_Acciones/blob/main/ejemplos_acciones.ipynb\" target=\"_parent\"><img src=\"https://colab.research.google.com/assets/colab-badge.svg\" alt=\"Open In Colab\"/></a>"
      ]
    },
    {
      "cell_type": "code",
      "execution_count": null,
      "metadata": {
        "id": "qy9Q-50sHyWY"
      },
      "outputs": [],
      "source": [
        "from pyspark import SparkContext\n",
        "\n",
        "# Inicia el contexto Spark\n",
        "sc = SparkContext(\"local\", \"Ejemplo_RDD\")"
      ]
    },
    {
      "cell_type": "code",
      "source": [
        "# Ejemplo reduce y collect\n",
        "\n",
        "# Crear un RDD de números\n",
        "numeros = sc.parallelize([1, 2, 3, 4, 5])\n",
        "\n",
        "# Sumar todos los elementos\n",
        "suma = numeros.reduce(lambda a, b: a + b)\n",
        "\n",
        "# Mostrar el resultado de la suma\n",
        "print(\"Suma total:\", suma)\n",
        "\n",
        "# Recolectar los elementos en una lista\n",
        "lista = numeros.collect()\n",
        "print(\"Lista de números:\", lista)"
      ],
      "metadata": {
        "colab": {
          "base_uri": "https://localhost:8080/"
        },
        "id": "BQ51bS09INug",
        "outputId": "547f0f54-0518-4877-ee47-c4ddabeaf7fe"
      },
      "execution_count": null,
      "outputs": [
        {
          "output_type": "stream",
          "name": "stdout",
          "text": [
            "Suma total: 15\n",
            "Lista de números: [1, 2, 3, 4, 5]\n"
          ]
        }
      ]
    },
    {
      "cell_type": "code",
      "source": [
        "# Ejemplo count y first\n",
        "\n",
        "# Crear un RDD de palabras\n",
        "palabras = sc.parallelize([\"hola\", \"mundo\", \"spark\", \"apache\"])\n",
        "\n",
        "# Contar el número de elementos\n",
        "cantidad = palabras.count()\n",
        "print(\"Cantidad de elementos:\", cantidad)\n",
        "\n",
        "# Obtener el primer elemento\n",
        "primer_elemento = palabras.first()\n",
        "print(\"Primer elemento:\", primer_elemento)"
      ],
      "metadata": {
        "colab": {
          "base_uri": "https://localhost:8080/"
        },
        "id": "TZ4OTu73IZVt",
        "outputId": "aa13189b-717f-4fd5-cb04-69f1c3e21587"
      },
      "execution_count": null,
      "outputs": [
        {
          "output_type": "stream",
          "name": "stdout",
          "text": [
            "Cantidad de elementos: 4\n",
            "Primer elemento: hola\n"
          ]
        }
      ]
    },
    {
      "cell_type": "code",
      "source": [
        "# Ejemplo take y max\n",
        "\n",
        "# Crear un RDD de números\n",
        "numeros = sc.parallelize([10, 20, 5, 15, 30])\n",
        "\n",
        "# Tomar los primeros 3 elementos\n",
        "primeros_3 = numeros.take(3)\n",
        "print(\"Primeros 3 elementos:\", primeros_3)\n",
        "\n",
        "# Obtener el valor máximo\n",
        "maximo = numeros.max()\n",
        "print(\"Valor máximo:\", maximo)"
      ],
      "metadata": {
        "colab": {
          "base_uri": "https://localhost:8080/"
        },
        "id": "jRTnBvlxIhGM",
        "outputId": "52da3bf2-0a47-4df7-a33d-0f316cd96850"
      },
      "execution_count": null,
      "outputs": [
        {
          "output_type": "stream",
          "name": "stdout",
          "text": [
            "Primeros 3 elementos: [10, 20, 5]\n",
            "Valor máximo: 30\n"
          ]
        }
      ]
    },
    {
      "cell_type": "code",
      "source": [
        "# Ejemplo min\n",
        "\n",
        "# Crear un RDD de números\n",
        "numeros = sc.parallelize([10, 20, 5, 15, 30])\n",
        "\n",
        "# Encontrar el valor mínimo del RDD\n",
        "valor_minimo = numeros.min()\n",
        "print(\"Valor mínimo en el RDD:\", valor_minimo)"
      ],
      "metadata": {
        "id": "pgOuXjCQIrBc"
      },
      "execution_count": null,
      "outputs": []
    },
    {
      "cell_type": "code",
      "source": [
        "# Ejemplo countByKey\n",
        "\n",
        "# Crear un RDD de pares clave-valor\n",
        "pares = sc.parallelize([(\"a\", 1), (\"b\", 1), (\"a\", 1), (\"c\", 1), (\"b\", 1)])\n",
        "\n",
        "# Contar la cantidad de veces que aparece cada clave\n",
        "conteo_claves = pares.countByKey()\n",
        "print(\"Conteo por clave:\", conteo_claves)"
      ],
      "metadata": {
        "colab": {
          "base_uri": "https://localhost:8080/"
        },
        "id": "eaNR2_AUJaH8",
        "outputId": "cb5927e5-02f7-47c5-dbb8-1916b032127d"
      },
      "execution_count": null,
      "outputs": [
        {
          "output_type": "stream",
          "name": "stdout",
          "text": [
            "Conteo por clave: defaultdict(<class 'int'>, {'a': 2, 'b': 2, 'c': 1})\n"
          ]
        }
      ]
    }
  ]
}