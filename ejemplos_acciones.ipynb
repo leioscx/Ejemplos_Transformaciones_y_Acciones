{
  "nbformat": 4,
  "nbformat_minor": 0,
  "metadata": {
    "colab": {
      "provenance": [],
      "authorship_tag": "ABX9TyMhgEpLdy+nhCic314kbuNm",
      "include_colab_link": true
    },
    "kernelspec": {
      "name": "python3",
      "display_name": "Python 3"
    },
    "language_info": {
      "name": "python"
    }
  },
  "cells": [
    {
      "cell_type": "markdown",
      "metadata": {
        "id": "view-in-github",
        "colab_type": "text"
      },
      "source": [
        "<a href=\"https://colab.research.google.com/github/leioscx/Ejemplos_Transformaciones_y_Acciones/blob/main/ejemplos_acciones.ipynb\" target=\"_parent\"><img src=\"https://colab.research.google.com/assets/colab-badge.svg\" alt=\"Open In Colab\"/></a>"
      ]
    },
    {
      "cell_type": "code",
      "execution_count": 2,
      "metadata": {
        "id": "qy9Q-50sHyWY",
        "outputId": "232fd67d-7131-44f9-cd09-c56918e1f15b",
        "colab": {
          "base_uri": "https://localhost:8080/",
          "height": 366
        }
      },
      "outputs": [
        {
          "output_type": "error",
          "ename": "ModuleNotFoundError",
          "evalue": "No module named 'pyspark'",
          "traceback": [
            "\u001b[0;31m---------------------------------------------------------------------------\u001b[0m",
            "\u001b[0;31mModuleNotFoundError\u001b[0m                       Traceback (most recent call last)",
            "\u001b[0;32m<ipython-input-2-9e608e960d80>\u001b[0m in \u001b[0;36m<cell line: 1>\u001b[0;34m()\u001b[0m\n\u001b[0;32m----> 1\u001b[0;31m \u001b[0;32mfrom\u001b[0m \u001b[0mpyspark\u001b[0m \u001b[0;32mimport\u001b[0m \u001b[0mSparkContext\u001b[0m\u001b[0;34m\u001b[0m\u001b[0;34m\u001b[0m\u001b[0m\n\u001b[0m\u001b[1;32m      2\u001b[0m \u001b[0;34m\u001b[0m\u001b[0m\n\u001b[1;32m      3\u001b[0m \u001b[0;31m# Inicia el contexto Spark\u001b[0m\u001b[0;34m\u001b[0m\u001b[0;34m\u001b[0m\u001b[0m\n\u001b[1;32m      4\u001b[0m \u001b[0msc\u001b[0m \u001b[0;34m=\u001b[0m \u001b[0mSparkContext\u001b[0m\u001b[0;34m(\u001b[0m\u001b[0;34m\"local\"\u001b[0m\u001b[0;34m,\u001b[0m \u001b[0;34m\"Ejemplo_RDD\"\u001b[0m\u001b[0;34m)\u001b[0m\u001b[0;34m\u001b[0m\u001b[0;34m\u001b[0m\u001b[0m\n",
            "\u001b[0;31mModuleNotFoundError\u001b[0m: No module named 'pyspark'",
            "",
            "\u001b[0;31m---------------------------------------------------------------------------\u001b[0;32m\nNOTE: If your import is failing due to a missing package, you can\nmanually install dependencies using either !pip or !apt.\n\nTo view examples of installing some common dependencies, click the\n\"Open Examples\" button below.\n\u001b[0;31m---------------------------------------------------------------------------\u001b[0m\n"
          ],
          "errorDetails": {
            "actions": [
              {
                "action": "open_url",
                "actionText": "Open Examples",
                "url": "/notebooks/snippets/importing_libraries.ipynb"
              }
            ]
          }
        }
      ],
      "source": [
        "from pyspark import SparkContext\n",
        "\n",
        "# Inicia el contexto Spark\n",
        "sc = SparkContext(\"local\", \"Ejemplo_RDD\")"
      ]
    },
    {
      "cell_type": "code",
      "source": [
        "# Ejemplo reduce y collect\n",
        "\n",
        "# Crear un RDD de números\n",
        "numeros = sc.parallelize([1, 2, 3, 4, 5])\n",
        "\n",
        "# Sumar todos los elementos\n",
        "suma = numeros.reduce(lambda a, b: a + b)\n",
        "\n",
        "# Mostrar el resultado de la suma\n",
        "print(\"Suma total:\", suma)\n",
        "\n",
        "# Recolectar los elementos en una lista\n",
        "lista = numeros.collect()\n",
        "print(\"Lista de números:\", lista)"
      ],
      "metadata": {
        "colab": {
          "base_uri": "https://localhost:8080/"
        },
        "id": "BQ51bS09INug",
        "outputId": "547f0f54-0518-4877-ee47-c4ddabeaf7fe"
      },
      "execution_count": null,
      "outputs": [
        {
          "output_type": "stream",
          "name": "stdout",
          "text": [
            "Suma total: 15\n",
            "Lista de números: [1, 2, 3, 4, 5]\n"
          ]
        }
      ]
    },
    {
      "cell_type": "code",
      "source": [
        "# Ejemplo count y first\n",
        "\n",
        "# Crear un RDD de palabras\n",
        "palabras = sc.parallelize([\"hola\", \"mundo\", \"spark\", \"apache\"])\n",
        "\n",
        "# Contar el número de elementos\n",
        "cantidad = palabras.count()\n",
        "print(\"Cantidad de elementos:\", cantidad)\n",
        "\n",
        "# Obtener el primer elemento\n",
        "primer_elemento = palabras.first()\n",
        "print(\"Primer elemento:\", primer_elemento)"
      ],
      "metadata": {
        "colab": {
          "base_uri": "https://localhost:8080/"
        },
        "id": "TZ4OTu73IZVt",
        "outputId": "aa13189b-717f-4fd5-cb04-69f1c3e21587"
      },
      "execution_count": null,
      "outputs": [
        {
          "output_type": "stream",
          "name": "stdout",
          "text": [
            "Cantidad de elementos: 4\n",
            "Primer elemento: hola\n"
          ]
        }
      ]
    },
    {
      "cell_type": "code",
      "source": [
        "# Ejemplo take, max y min\n",
        "\n",
        "# Crear un RDD de números\n",
        "numeros = sc.parallelize([10, 20, 5, 15, 30])\n",
        "\n",
        "# Tomar los primeros 3 elementos\n",
        "primeros_3 = numeros.take(3)\n",
        "print(\"Primeros 3 elementos:\", primeros_3)\n",
        "\n",
        "# Obtener el valor máximo\n",
        "maximo = numeros.max()\n",
        "print(\"Valor máximo:\", maximo)\n",
        "\n",
        "# Encontrar el valor mínimo\n",
        "valor_minimo = numeros.min()\n",
        "print(\"Valor mínimo en el RDD:\", valor_minimo)"
      ],
      "metadata": {
        "colab": {
          "base_uri": "https://localhost:8080/",
          "height": 211
        },
        "id": "jRTnBvlxIhGM",
        "outputId": "d2500adf-7e14-4fd8-d99b-8447173f2fa7"
      },
      "execution_count": 1,
      "outputs": [
        {
          "output_type": "error",
          "ename": "NameError",
          "evalue": "name 'sc' is not defined",
          "traceback": [
            "\u001b[0;31m---------------------------------------------------------------------------\u001b[0m",
            "\u001b[0;31mNameError\u001b[0m                                 Traceback (most recent call last)",
            "\u001b[0;32m<ipython-input-1-229a2295c01c>\u001b[0m in \u001b[0;36m<cell line: 4>\u001b[0;34m()\u001b[0m\n\u001b[1;32m      2\u001b[0m \u001b[0;34m\u001b[0m\u001b[0m\n\u001b[1;32m      3\u001b[0m \u001b[0;31m# Crear un RDD de números\u001b[0m\u001b[0;34m\u001b[0m\u001b[0;34m\u001b[0m\u001b[0m\n\u001b[0;32m----> 4\u001b[0;31m \u001b[0mnumeros\u001b[0m \u001b[0;34m=\u001b[0m \u001b[0msc\u001b[0m\u001b[0;34m.\u001b[0m\u001b[0mparallelize\u001b[0m\u001b[0;34m(\u001b[0m\u001b[0;34m[\u001b[0m\u001b[0;36m10\u001b[0m\u001b[0;34m,\u001b[0m \u001b[0;36m20\u001b[0m\u001b[0;34m,\u001b[0m \u001b[0;36m5\u001b[0m\u001b[0;34m,\u001b[0m \u001b[0;36m15\u001b[0m\u001b[0;34m,\u001b[0m \u001b[0;36m30\u001b[0m\u001b[0;34m]\u001b[0m\u001b[0;34m)\u001b[0m\u001b[0;34m\u001b[0m\u001b[0;34m\u001b[0m\u001b[0m\n\u001b[0m\u001b[1;32m      5\u001b[0m \u001b[0;34m\u001b[0m\u001b[0m\n\u001b[1;32m      6\u001b[0m \u001b[0;31m# Tomar los primeros 3 elementos\u001b[0m\u001b[0;34m\u001b[0m\u001b[0;34m\u001b[0m\u001b[0m\n",
            "\u001b[0;31mNameError\u001b[0m: name 'sc' is not defined"
          ]
        }
      ]
    },
    {
      "cell_type": "code",
      "source": [
        "# Ejemplo countByKey\n",
        "\n",
        "# Crear un RDD de pares clave-valor\n",
        "pares = sc.parallelize([(\"a\", 1), (\"b\", 1), (\"a\", 1), (\"c\", 1), (\"b\", 1)])\n",
        "\n",
        "# Contar la cantidad de veces que aparece cada clave\n",
        "conteo_claves = pares.countByKey()\n",
        "print(\"Conteo por clave:\", conteo_claves)"
      ],
      "metadata": {
        "colab": {
          "base_uri": "https://localhost:8080/"
        },
        "id": "eaNR2_AUJaH8",
        "outputId": "cb5927e5-02f7-47c5-dbb8-1916b032127d"
      },
      "execution_count": null,
      "outputs": [
        {
          "output_type": "stream",
          "name": "stdout",
          "text": [
            "Conteo por clave: defaultdict(<class 'int'>, {'a': 2, 'b': 2, 'c': 1})\n"
          ]
        }
      ]
    }
  ]
}